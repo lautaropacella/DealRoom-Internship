{
 "cells": [
  {
   "cell_type": "code",
   "execution_count": 1,
   "id": "18f2af93",
   "metadata": {},
   "outputs": [],
   "source": [
    "import pandas as pd\n",
    "import numpy as np\n",
    "import warnings\n",
    "warnings.filterwarnings('ignore')"
   ]
  },
  {
   "cell_type": "code",
   "execution_count": 2,
   "id": "4982ec12",
   "metadata": {},
   "outputs": [],
   "source": [
    "df = pd.read_csv(\"C:/Users/lauta/Desktop/Internship DealRoom/data_scientist_duplicate_detection.csv\")\n",
    "df1 = df.copy()"
   ]
  },
  {
   "cell_type": "markdown",
   "id": "fa7fa2ce",
   "metadata": {},
   "source": [
    "#### My approach is to look for duplicates with the names of the company. But for this to work, the names of the companies have to be standarized as much as possible, as to minimize the differences coming from the data entry process."
   ]
  },
  {
   "cell_type": "code",
   "execution_count": 3,
   "id": "d1d45027",
   "metadata": {},
   "outputs": [],
   "source": [
    "spec_chars = [\"!\",'\"',\"#\",\"%\",\"&\",\"'\",\"(\",\")\",\n",
    "              \"*\",\"+\",\",\",\"-\",\".\",\"/\",\":\",\";\",\"<\",\n",
    "              \"=\",\">\",\"?\",\"@\",\"[\",\"\\\\\",\"]\",\"^\",\"_\",\n",
    "              \"`\",\"{\",\"|\",\"}\",\"~\",\"–\"]\n",
    "\n",
    "df1.name = df1.name.str.strip()\n",
    "df1.name = df1.name.str.lower()\n",
    "df1.name = df1.name.str.replace(',', ' ')\n",
    "for char in spec_chars:\n",
    "    df1.name = df1.name.str.replace(char,'')"
   ]
  },
  {
   "cell_type": "markdown",
   "id": "fd3db5ab",
   "metadata": {},
   "source": [
    "#### Now that we have \"clean\" names, It would be easy to look up the duplicates. Nevertheless, the assignment is also asking to pinpoint the row and the columns on which each duplicate is equal to the original observations. For this, I decided to create to different dataset with the same method but a different parameter. The first dataset (df_dup_f) will contain the second duplication, and the second dataset will contain the original observation."
   ]
  },
  {
   "cell_type": "code",
   "execution_count": 4,
   "id": "05ab3cf6",
   "metadata": {},
   "outputs": [],
   "source": [
    "df_dup_f = df1[df1.duplicated(['name'], keep='first')].reset_index()\n",
    "df_dup_l = df1[df1.duplicated(['name'], keep='last')].reset_index()"
   ]
  },
  {
   "cell_type": "code",
   "execution_count": 5,
   "id": "2c7f1bef",
   "metadata": {},
   "outputs": [],
   "source": [
    "#empty lists that will eventually fill the final dataset with the index of the row on which it is duplicated\n",
    "#and the columns on which they are equal\n",
    "dup_index = []\n",
    "dup_columns = []\n",
    "\n",
    "#for every name there is in the duplicate dataframe\n",
    "for company in df_dup_f.name:\n",
    "    #get the index of the row of the second list (that contains the first duplicate) and append it to the list of indexes\n",
    "    dup_index.append(df_dup_l[df_dup_l['name'] == company].iloc[0]['index'])\n",
    "    #get the names of the columns on which the row of the first duplicate dataframe is equal to the duplicate of\n",
    "    #the second duplicate dataframe and append it to the list of duplicated columns\n",
    "    \n",
    "    dup_columns.append(list(df_dup_f.columns[np.where(df_dup_f[df_dup_f['name'] == company].iloc[0] == df_dup_l[df_dup_l['name'] == company].iloc[0])]))"
   ]
  },
  {
   "cell_type": "code",
   "execution_count": 6,
   "id": "eae76b7b",
   "metadata": {},
   "outputs": [
    {
     "data": {
      "text/html": [
       "<div>\n",
       "<style scoped>\n",
       "    .dataframe tbody tr th:only-of-type {\n",
       "        vertical-align: middle;\n",
       "    }\n",
       "\n",
       "    .dataframe tbody tr th {\n",
       "        vertical-align: top;\n",
       "    }\n",
       "\n",
       "    .dataframe thead th {\n",
       "        text-align: right;\n",
       "    }\n",
       "</style>\n",
       "<table border=\"1\" class=\"dataframe\">\n",
       "  <thead>\n",
       "    <tr style=\"text-align: right;\">\n",
       "      <th></th>\n",
       "      <th>index</th>\n",
       "      <th>id</th>\n",
       "      <th>name</th>\n",
       "      <th>tagline</th>\n",
       "      <th>industry</th>\n",
       "      <th>industry_2</th>\n",
       "      <th>type</th>\n",
       "      <th>address</th>\n",
       "      <th>street</th>\n",
       "      <th>street_number</th>\n",
       "      <th>zip</th>\n",
       "      <th>country</th>\n",
       "      <th>city</th>\n",
       "      <th>sectors</th>\n",
       "      <th>duplicated with (index of row in original table)</th>\n",
       "      <th>duplicated on</th>\n",
       "    </tr>\n",
       "  </thead>\n",
       "  <tbody>\n",
       "    <tr>\n",
       "      <th>0</th>\n",
       "      <td>34</td>\n",
       "      <td>1315405</td>\n",
       "      <td>possip</td>\n",
       "      <td>Engagement platform giving schools a pulse on ...</td>\n",
       "      <td>Kids</td>\n",
       "      <td>NaN</td>\n",
       "      <td>2</td>\n",
       "      <td>United States, Nashville</td>\n",
       "      <td>NaN</td>\n",
       "      <td>NaN</td>\n",
       "      <td>NaN</td>\n",
       "      <td>United States</td>\n",
       "      <td>Nashville</td>\n",
       "      <td>Student,automated process,platform,SaaS,Automa...</td>\n",
       "      <td>29</td>\n",
       "      <td>[name, industry, type, country, city]</td>\n",
       "    </tr>\n",
       "    <tr>\n",
       "      <th>1</th>\n",
       "      <td>48</td>\n",
       "      <td>85919</td>\n",
       "      <td>spark networks</td>\n",
       "      <td>Spark Networks – A Leading Provider of Iconic,...</td>\n",
       "      <td>Dating</td>\n",
       "      <td>NaN</td>\n",
       "      <td>4</td>\n",
       "      <td>11150 CA-2 #600, Los Angeles, CA 90025, USA</td>\n",
       "      <td>California 2</td>\n",
       "      <td>11150</td>\n",
       "      <td>NaN</td>\n",
       "      <td>United States</td>\n",
       "      <td>West Los Angeles</td>\n",
       "      <td>presentation,network,Intellectual Property,pre...</td>\n",
       "      <td>43</td>\n",
       "      <td>[name, industry, address, street, street_numbe...</td>\n",
       "    </tr>\n",
       "    <tr>\n",
       "      <th>2</th>\n",
       "      <td>65</td>\n",
       "      <td>1314213</td>\n",
       "      <td>the johns hopkins bloomberg school of public h...</td>\n",
       "      <td>Research, education, and practice to find solu...</td>\n",
       "      <td>Kids</td>\n",
       "      <td>Education</td>\n",
       "      <td>8</td>\n",
       "      <td>United States, Baltimore</td>\n",
       "      <td>NaN</td>\n",
       "      <td>NaN</td>\n",
       "      <td>NaN</td>\n",
       "      <td>United States</td>\n",
       "      <td>Baltimore</td>\n",
       "      <td>NaN</td>\n",
       "      <td>9</td>\n",
       "      <td>[name, tagline, industry, address, country, city]</td>\n",
       "    </tr>\n",
       "    <tr>\n",
       "      <th>3</th>\n",
       "      <td>82</td>\n",
       "      <td>1733948</td>\n",
       "      <td>budge studios</td>\n",
       "      <td>Developer of mobile applications to entertain ...</td>\n",
       "      <td>Kids</td>\n",
       "      <td>NaN</td>\n",
       "      <td>2</td>\n",
       "      <td>Canada, Montreal</td>\n",
       "      <td>NaN</td>\n",
       "      <td>NaN</td>\n",
       "      <td>H2L</td>\n",
       "      <td>Canada</td>\n",
       "      <td>Montreal</td>\n",
       "      <td>app</td>\n",
       "      <td>7</td>\n",
       "      <td>[name, industry, type, country, city]</td>\n",
       "    </tr>\n",
       "    <tr>\n",
       "      <th>4</th>\n",
       "      <td>423</td>\n",
       "      <td>1233426</td>\n",
       "      <td>allunga advisory</td>\n",
       "      <td>Boutique investment bank with an established t...</td>\n",
       "      <td>NaN</td>\n",
       "      <td>NaN</td>\n",
       "      <td>3</td>\n",
       "      <td>19-29 Martin Pl, Sydney NSW 2000, Australia</td>\n",
       "      <td>Martin Place</td>\n",
       "      <td>19-29</td>\n",
       "      <td>2000</td>\n",
       "      <td>Australia</td>\n",
       "      <td>Sydney</td>\n",
       "      <td>NaN</td>\n",
       "      <td>234</td>\n",
       "      <td>[name, tagline, type, country, city]</td>\n",
       "    </tr>\n",
       "  </tbody>\n",
       "</table>\n",
       "</div>"
      ],
      "text/plain": [
       "   index       id                                               name  \\\n",
       "0     34  1315405                                             possip   \n",
       "1     48    85919                                     spark networks   \n",
       "2     65  1314213  the johns hopkins bloomberg school of public h...   \n",
       "3     82  1733948                                      budge studios   \n",
       "4    423  1233426                                   allunga advisory   \n",
       "\n",
       "                                             tagline industry industry_2  \\\n",
       "0  Engagement platform giving schools a pulse on ...     Kids        NaN   \n",
       "1  Spark Networks – A Leading Provider of Iconic,...   Dating        NaN   \n",
       "2  Research, education, and practice to find solu...     Kids  Education   \n",
       "3  Developer of mobile applications to entertain ...     Kids        NaN   \n",
       "4  Boutique investment bank with an established t...      NaN        NaN   \n",
       "\n",
       "   type                                      address        street  \\\n",
       "0     2                     United States, Nashville           NaN   \n",
       "1     4  11150 CA-2 #600, Los Angeles, CA 90025, USA  California 2   \n",
       "2     8                     United States, Baltimore           NaN   \n",
       "3     2                             Canada, Montreal           NaN   \n",
       "4     3  19-29 Martin Pl, Sydney NSW 2000, Australia  Martin Place   \n",
       "\n",
       "  street_number   zip        country              city  \\\n",
       "0           NaN   NaN  United States         Nashville   \n",
       "1         11150   NaN  United States  West Los Angeles   \n",
       "2           NaN   NaN  United States         Baltimore   \n",
       "3           NaN   H2L         Canada          Montreal   \n",
       "4         19-29  2000      Australia            Sydney   \n",
       "\n",
       "                                             sectors  \\\n",
       "0  Student,automated process,platform,SaaS,Automa...   \n",
       "1  presentation,network,Intellectual Property,pre...   \n",
       "2                                                NaN   \n",
       "3                                                app   \n",
       "4                                                NaN   \n",
       "\n",
       "   duplicated with (index of row in original table)  \\\n",
       "0                                                29   \n",
       "1                                                43   \n",
       "2                                                 9   \n",
       "3                                                 7   \n",
       "4                                               234   \n",
       "\n",
       "                                       duplicated on  \n",
       "0              [name, industry, type, country, city]  \n",
       "1  [name, industry, address, street, street_numbe...  \n",
       "2  [name, tagline, industry, address, country, city]  \n",
       "3              [name, industry, type, country, city]  \n",
       "4               [name, tagline, type, country, city]  "
      ]
     },
     "execution_count": 6,
     "metadata": {},
     "output_type": "execute_result"
    }
   ],
   "source": [
    "#create the new columns for the information about duplicated indexes and columns\n",
    "df_dup_f['duplicated with (index of row in original table)'] = dup_index\n",
    "df_dup_f['duplicated on'] = dup_columns\n",
    "df_dup_f.head()"
   ]
  },
  {
   "cell_type": "markdown",
   "id": "f871fa42",
   "metadata": {},
   "source": [
    "#### Now we have a dataframe with the duplicates (ignoring the first observation) with the index of the first observation from the original dataset to check it, and the names of the columns on which this duplicate is equal to the observation of the first observation in the original dataset."
   ]
  },
  {
   "cell_type": "code",
   "execution_count": 7,
   "id": "11947ba3",
   "metadata": {},
   "outputs": [],
   "source": [
    "df_dup_f.to_csv('C:/Users/lauta/Desktop/Internship DealRoom/Duplicates.csv', index=False)"
   ]
  },
  {
   "cell_type": "markdown",
   "id": "c12c9dc7",
   "metadata": {},
   "source": [
    "#### However, this solution is incomplete. Some observations were duplicated on more than one time, meaning that the information about the index and columns on which is duplicated for some values will be wrong."
   ]
  },
  {
   "cell_type": "code",
   "execution_count": 8,
   "id": "cca036bd",
   "metadata": {},
   "outputs": [
    {
     "data": {
      "text/plain": [
       "latch                              2\n",
       "caterwings                         2\n",
       "koko                               2\n",
       "oxygen                             2\n",
       "grounded                           2\n",
       "                                  ..\n",
       "computerrx                         1\n",
       "appreciation engine                1\n",
       "western states investment group    1\n",
       "geko navsat                        1\n",
       "droplit                            1\n",
       "Name: name, Length: 887, dtype: int64"
      ]
     },
     "execution_count": 8,
     "metadata": {},
     "output_type": "execute_result"
    }
   ],
   "source": [
    "df_dup_f.name.value_counts()"
   ]
  }
 ],
 "metadata": {
  "hide_input": false,
  "kernelspec": {
   "display_name": "Python 3",
   "language": "python",
   "name": "python3"
  },
  "language_info": {
   "codemirror_mode": {
    "name": "ipython",
    "version": 3
   },
   "file_extension": ".py",
   "mimetype": "text/x-python",
   "name": "python",
   "nbconvert_exporter": "python",
   "pygments_lexer": "ipython3",
   "version": "3.8.5"
  }
 },
 "nbformat": 4,
 "nbformat_minor": 5
}
